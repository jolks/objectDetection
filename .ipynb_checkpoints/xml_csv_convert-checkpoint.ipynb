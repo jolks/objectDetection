{
 "cells": [
  {
   "cell_type": "code",
   "execution_count": 36,
   "metadata": {},
   "outputs": [
    {
     "data": {
      "text/plain": [
       "'/Users/yagmur/Desktop/objectDetection'"
      ]
     },
     "execution_count": 36,
     "metadata": {},
     "output_type": "execute_result"
    }
   ],
   "source": [
    "pwd"
   ]
  },
  {
   "cell_type": "markdown",
   "metadata": {},
   "source": [
    "### Create csv file"
   ]
  },
  {
   "cell_type": "code",
   "execution_count": 69,
   "metadata": {
    "collapsed": true
   },
   "outputs": [],
   "source": [
    "import os\n",
    "import glob\n",
    "import pandas as pd\n",
    "import xml.etree.ElementTree as ET\n",
    "\n",
    "\n",
    "def xml_to_csv(path):\n",
    "    #xml_list = []\n",
    "    value = []\n",
    "    for xml_file in glob.glob(os.path.join(path,'*.xml')):\n",
    "        print(xml_file)\n",
    "        tree = ET.parse(xml_file)\n",
    "        root = tree.getroot()\n",
    "        \n",
    "        for member in root.findall('object'):\n",
    "            try:\n",
    "            \n",
    "                value.append((root.find('filename').text,\n",
    "                             int(root.find('size')[0].text),\n",
    "                             int(root.find('size')[1].text),\n",
    "                             member[0].text,\n",
    "                             int(member[4][0].text),\n",
    "                             int(member[4][1].text),\n",
    "                             int(member[4][2].text),\n",
    "                             int(member[4][3].text)\n",
    "                             ))\n",
    "                #xml_list.append(value)\n",
    "            except IndexError:\n",
    "                print(\"Differently annotated file : {}\".format(xml_file))\n",
    "            \n",
    "    column_name = ['filename', 'width', 'height', 'class', 'xmin', 'ymin', 'xmax', 'ymax']\n",
    "    xml_df = pd.DataFrame(value, columns=column_name)\n",
    "    return xml_df\n"
   ]
  },
  {
   "cell_type": "code",
   "execution_count": 70,
   "metadata": {
    "collapsed": true
   },
   "outputs": [],
   "source": []
  },
  {
   "cell_type": "code",
   "execution_count": 71,
   "metadata": {
    "collapsed": true
   },
   "outputs": [],
   "source": [
    "def main():\n",
    "    for folder in ['train','val']:\n",
    "        image_path = os.path.join(os.getcwd(), ('images/' + folder))\n",
    "        print(image_path)\n",
    "        xml_df = xml_to_csv(image_path)\n",
    "        xml_df.to_csv((image_path + '.csv'), index=None)\n",
    "\n",
    "        print(folder + '.csv was successfully created')"
   ]
  },
  {
   "cell_type": "code",
   "execution_count": 72,
   "metadata": {
    "collapsed": true
   },
   "outputs": [
    {
     "name": "stdout",
     "output_type": "stream",
     "text": [
      "/Users/yagmur/Desktop/objectDetection/images/train\n",
      "/Users/yagmur/Desktop/objectDetection/images/train/basketball_1.xml\n",
      "/Users/yagmur/Desktop/objectDetection/images/train/basketball_10.xml\n",
      "/Users/yagmur/Desktop/objectDetection/images/train/basketball_100.xml\n",
      "/Users/yagmur/Desktop/objectDetection/images/train/basketball_101.xml\n",
      "/Users/yagmur/Desktop/objectDetection/images/train/basketball_102.xml\n",
      "/Users/yagmur/Desktop/objectDetection/images/train/basketball_103.xml\n",
      "/Users/yagmur/Desktop/objectDetection/images/train/basketball_104.xml\n",
      "/Users/yagmur/Desktop/objectDetection/images/train/basketball_105.xml\n",
      "/Users/yagmur/Desktop/objectDetection/images/train/basketball_106.xml\n",
      "/Users/yagmur/Desktop/objectDetection/images/train/basketball_107.xml\n",
      "/Users/yagmur/Desktop/objectDetection/images/train/basketball_108.xml\n",
      "/Users/yagmur/Desktop/objectDetection/images/train/basketball_109.xml\n",
      "/Users/yagmur/Desktop/objectDetection/images/train/basketball_11.xml\n",
      "/Users/yagmur/Desktop/objectDetection/images/train/basketball_110.xml\n",
      "/Users/yagmur/Desktop/objectDetection/images/train/basketball_111.xml\n",
      "/Users/yagmur/Desktop/objectDetection/images/train/basketball_112.xml\n",
      "/Users/yagmur/Desktop/objectDetection/images/train/basketball_113.xml\n",
      "/Users/yagmur/Desktop/objectDetection/images/train/basketball_114.xml\n",
      "/Users/yagmur/Desktop/objectDetection/images/train/basketball_115.xml\n",
      "/Users/yagmur/Desktop/objectDetection/images/train/basketball_116.xml\n",
      "/Users/yagmur/Desktop/objectDetection/images/train/basketball_117.xml\n",
      "/Users/yagmur/Desktop/objectDetection/images/train/basketball_118.xml\n",
      "/Users/yagmur/Desktop/objectDetection/images/train/basketball_119.xml\n",
      "/Users/yagmur/Desktop/objectDetection/images/train/basketball_12.xml\n",
      "/Users/yagmur/Desktop/objectDetection/images/train/basketball_120.xml\n",
      "/Users/yagmur/Desktop/objectDetection/images/train/basketball_121.xml\n",
      "/Users/yagmur/Desktop/objectDetection/images/train/basketball_122.xml\n",
      "/Users/yagmur/Desktop/objectDetection/images/train/basketball_123.xml\n",
      "/Users/yagmur/Desktop/objectDetection/images/train/basketball_124.xml\n",
      "/Users/yagmur/Desktop/objectDetection/images/train/basketball_125.xml\n",
      "/Users/yagmur/Desktop/objectDetection/images/train/basketball_126.xml\n",
      "/Users/yagmur/Desktop/objectDetection/images/train/basketball_127.xml\n",
      "/Users/yagmur/Desktop/objectDetection/images/train/basketball_128.xml\n",
      "/Users/yagmur/Desktop/objectDetection/images/train/basketball_129.xml\n",
      "/Users/yagmur/Desktop/objectDetection/images/train/basketball_13.xml\n",
      "/Users/yagmur/Desktop/objectDetection/images/train/basketball_130.xml\n",
      "/Users/yagmur/Desktop/objectDetection/images/train/basketball_131.xml\n",
      "/Users/yagmur/Desktop/objectDetection/images/train/basketball_132.xml\n",
      "/Users/yagmur/Desktop/objectDetection/images/train/basketball_133.xml\n",
      "/Users/yagmur/Desktop/objectDetection/images/train/basketball_134.xml\n",
      "/Users/yagmur/Desktop/objectDetection/images/train/basketball_135.xml\n",
      "/Users/yagmur/Desktop/objectDetection/images/train/basketball_136.xml\n",
      "/Users/yagmur/Desktop/objectDetection/images/train/basketball_137.xml\n",
      "/Users/yagmur/Desktop/objectDetection/images/train/basketball_138.xml\n",
      "/Users/yagmur/Desktop/objectDetection/images/train/basketball_139.xml\n",
      "/Users/yagmur/Desktop/objectDetection/images/train/basketball_14.xml\n",
      "/Users/yagmur/Desktop/objectDetection/images/train/basketball_140.xml\n",
      "/Users/yagmur/Desktop/objectDetection/images/train/basketball_141.xml\n",
      "/Users/yagmur/Desktop/objectDetection/images/train/basketball_142.xml\n",
      "/Users/yagmur/Desktop/objectDetection/images/train/basketball_143.xml\n",
      "/Users/yagmur/Desktop/objectDetection/images/train/basketball_144.xml\n",
      "/Users/yagmur/Desktop/objectDetection/images/train/basketball_145.xml\n",
      "/Users/yagmur/Desktop/objectDetection/images/train/basketball_146.xml\n",
      "/Users/yagmur/Desktop/objectDetection/images/train/basketball_147.xml\n",
      "/Users/yagmur/Desktop/objectDetection/images/train/basketball_148.xml\n",
      "/Users/yagmur/Desktop/objectDetection/images/train/basketball_149.xml\n",
      "/Users/yagmur/Desktop/objectDetection/images/train/basketball_15.xml\n",
      "/Users/yagmur/Desktop/objectDetection/images/train/basketball_150.xml\n",
      "/Users/yagmur/Desktop/objectDetection/images/train/basketball_151.xml\n",
      "/Users/yagmur/Desktop/objectDetection/images/train/basketball_152.xml\n",
      "/Users/yagmur/Desktop/objectDetection/images/train/basketball_153.xml\n",
      "/Users/yagmur/Desktop/objectDetection/images/train/basketball_154.xml\n",
      "/Users/yagmur/Desktop/objectDetection/images/train/basketball_155.xml\n",
      "/Users/yagmur/Desktop/objectDetection/images/train/basketball_156.xml\n",
      "/Users/yagmur/Desktop/objectDetection/images/train/basketball_157.xml\n",
      "/Users/yagmur/Desktop/objectDetection/images/train/basketball_158.xml\n",
      "/Users/yagmur/Desktop/objectDetection/images/train/basketball_159.xml\n",
      "/Users/yagmur/Desktop/objectDetection/images/train/basketball_16.xml\n",
      "/Users/yagmur/Desktop/objectDetection/images/train/basketball_160.xml\n",
      "/Users/yagmur/Desktop/objectDetection/images/train/basketball_161.xml\n",
      "/Users/yagmur/Desktop/objectDetection/images/train/basketball_162.xml\n",
      "/Users/yagmur/Desktop/objectDetection/images/train/basketball_163.xml\n",
      "/Users/yagmur/Desktop/objectDetection/images/train/basketball_164.xml\n",
      "/Users/yagmur/Desktop/objectDetection/images/train/basketball_165.xml\n",
      "/Users/yagmur/Desktop/objectDetection/images/train/basketball_166.xml\n",
      "/Users/yagmur/Desktop/objectDetection/images/train/basketball_167.xml\n",
      "/Users/yagmur/Desktop/objectDetection/images/train/basketball_168.xml\n",
      "/Users/yagmur/Desktop/objectDetection/images/train/basketball_17.xml\n",
      "/Users/yagmur/Desktop/objectDetection/images/train/basketball_18.xml\n",
      "/Users/yagmur/Desktop/objectDetection/images/train/basketball_19.xml\n",
      "train.csv was successfully created\n",
      "/Users/yagmur/Desktop/objectDetection/images/val\n",
      "/Users/yagmur/Desktop/objectDetection/images/val/basketball_169.xml\n",
      "/Users/yagmur/Desktop/objectDetection/images/val/basketball_170.xml\n",
      "/Users/yagmur/Desktop/objectDetection/images/val/basketball_171.xml\n",
      "/Users/yagmur/Desktop/objectDetection/images/val/basketball_172.xml\n",
      "/Users/yagmur/Desktop/objectDetection/images/val/basketball_173.xml\n",
      "/Users/yagmur/Desktop/objectDetection/images/val/basketball_174.xml\n",
      "/Users/yagmur/Desktop/objectDetection/images/val/basketball_175.xml\n",
      "/Users/yagmur/Desktop/objectDetection/images/val/basketball_176.xml\n",
      "/Users/yagmur/Desktop/objectDetection/images/val/basketball_177.xml\n",
      "/Users/yagmur/Desktop/objectDetection/images/val/basketball_178.xml\n",
      "/Users/yagmur/Desktop/objectDetection/images/val/basketball_179.xml\n",
      "/Users/yagmur/Desktop/objectDetection/images/val/basketball_180.xml\n",
      "/Users/yagmur/Desktop/objectDetection/images/val/basketball_181.xml\n",
      "/Users/yagmur/Desktop/objectDetection/images/val/basketball_182.xml\n",
      "/Users/yagmur/Desktop/objectDetection/images/val/basketball_183.xml\n",
      "/Users/yagmur/Desktop/objectDetection/images/val/basketball_184.xml\n",
      "/Users/yagmur/Desktop/objectDetection/images/val/basketball_185.xml\n",
      "/Users/yagmur/Desktop/objectDetection/images/val/basketball_186.xml\n",
      "/Users/yagmur/Desktop/objectDetection/images/val/basketball_187.xml\n",
      "/Users/yagmur/Desktop/objectDetection/images/val/basketball_188.xml\n",
      "/Users/yagmur/Desktop/objectDetection/images/val/basketball_189.xml\n",
      "val.csv was successfully created\n"
     ]
    }
   ],
   "source": [
    "main()"
   ]
  },
  {
   "cell_type": "markdown",
   "metadata": {
    "collapsed": true
   },
   "source": [
    "### Test"
   ]
  },
  {
   "cell_type": "code",
   "execution_count": 9,
   "metadata": {},
   "outputs": [
    {
     "data": {
      "text/plain": [
       "'/Users/yagmur/Desktop/objectDetection/images/xmlTest.xml'"
      ]
     },
     "execution_count": 9,
     "metadata": {},
     "output_type": "execute_result"
    }
   ],
   "source": [
    "import os\n",
    "import glob\n",
    "import pandas as pd\n",
    "import xml.etree.ElementTree as ET\n",
    "os.getcwd() +  '/images/xmlTest.xml'"
   ]
  },
  {
   "cell_type": "code",
   "execution_count": 22,
   "metadata": {},
   "outputs": [
    {
     "name": "stdout",
     "output_type": "stream",
     "text": [
      "/Users/yagmur/Desktop/objectDetection/images/xmlTest.xml\n"
     ]
    }
   ],
   "source": [
    "value = []\n",
    "for xml_file in glob.glob(os.getcwd() +  '/images/xmlTest.xml'):\n",
    "    print(xml_file)\n",
    "    tree = ET.parse(xml_file)\n",
    "    root = tree.getroot()"
   ]
  },
  {
   "cell_type": "code",
   "execution_count": 23,
   "metadata": {
    "collapsed": true
   },
   "outputs": [],
   "source": [
    "for member in root.findall('object'):\n",
    "#     print(member)\n",
    "    try:\n",
    "        value.append((root.find('filename').text,\n",
    "                 int(root.find('size')[0].text),\n",
    "                 int(root.find('size')[1].text),\n",
    "                 member[0].text,\n",
    "                 int(member[1][0].text),\n",
    "                 int(member[1][1].text),\n",
    "                 int(member[1][2].text),\n",
    "                 int(member[1][3].text)\n",
    "                 ))\n",
    "        #xml_list.append(value)\n",
    "    except IndexError:\n",
    "        print(\"Differently annotated file : {}\".format(xml_file))\n",
    "\n",
    "# column_name = ['filename', 'width', 'height', 'class', 'xmin', 'ymin', 'xmax', 'ymax']\n",
    "# xml_df = pd.DataFrame(value, columns=column_name)"
   ]
  },
  {
   "cell_type": "code",
   "execution_count": 24,
   "metadata": {},
   "outputs": [
    {
     "data": {
      "text/plain": [
       "[('Adachi_20170906093849.jpg', 600, 600, 'D43', 127, 267, 599, 379),\n",
       " ('Adachi_20170906093849.jpg', 600, 600, 'D20', 32, 366, 232, 599)]"
      ]
     },
     "execution_count": 24,
     "metadata": {},
     "output_type": "execute_result"
    }
   ],
   "source": [
    "value"
   ]
  },
  {
   "cell_type": "code",
   "execution_count": 34,
   "metadata": {},
   "outputs": [
    {
     "data": {
      "text/plain": [
       "<Element 'name' at 0x1119c0db8>"
      ]
     },
     "execution_count": 34,
     "metadata": {},
     "output_type": "execute_result"
    }
   ],
   "source": [
    "member[0]"
   ]
  },
  {
   "cell_type": "code",
   "execution_count": null,
   "metadata": {
    "collapsed": true
   },
   "outputs": [],
   "source": [
    "print(root.find('folder').text)\n",
    "print(root.find('filename').text)\n",
    "print(root.find('path').text)\n",
    "print(root.find('source')[0].text)\n",
    "\n",
    "print(int(root.find('size')[0].text))\n",
    "print(int(root.find('size')[1].text))\n",
    "print(int(root.find('size')[2].text))\n",
    "\n",
    "print(root.find('segmented').text)\n",
    "\n",
    "print(member[0].text)\n",
    "print(member[1].text)\n",
    "print(member[2].text)\n",
    "print(member[3].text)\n",
    "print(member[4][0].text)\n",
    "print(member[4][1].text)\n",
    "print(member[4][2].text)\n",
    "print(member[4][3].text)"
   ]
  }
 ],
 "metadata": {
  "kernelspec": {
   "display_name": "Python 3",
   "language": "python",
   "name": "python3"
  },
  "language_info": {
   "codemirror_mode": {
    "name": "ipython",
    "version": 3
   },
   "file_extension": ".py",
   "mimetype": "text/x-python",
   "name": "python",
   "nbconvert_exporter": "python",
   "pygments_lexer": "ipython3",
   "version": "3.6.3"
  }
 },
 "nbformat": 4,
 "nbformat_minor": 2
}
