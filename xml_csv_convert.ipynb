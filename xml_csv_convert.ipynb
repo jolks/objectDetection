{
 "cells": [
  {
   "cell_type": "code",
   "execution_count": null,
   "metadata": {
    "collapsed": true
   },
   "outputs": [],
   "source": [
    "import os\n",
    "import glob\n",
    "import pandas as pd\n",
    "import xml.etree.ElementTree as ET\n",
    "\n",
    "\n",
    "def xml_to_csv(path):\n",
    "    #xml_list = []\n",
    "    value = []\n",
    "    for xml_file in glob.glob(path + '/*.xml'):\n",
    "        print(xml_file)\n",
    "        tree = ET.parse(xml_file)\n",
    "        root = tree.getroot()\n",
    "        \n",
    "        for member in root.findall('object'):\n",
    "            try:\n",
    "            \n",
    "                value.append((root.find('filename').text,\n",
    "                         int(root.find('size')[0].text),\n",
    "                         int(root.find('size')[1].text),\n",
    "                         member[0].text,\n",
    "                         int(member[1][0].text),\n",
    "                         int(member[1][1].text),\n",
    "                         int(member[1][2].text),\n",
    "                         int(member[1][3].text)\n",
    "                         ))\n",
    "                #xml_list.append(value)\n",
    "            except IndexError:\n",
    "                print(\"Differently annotated file : {}\".format(xml_file))\n",
    "            \n",
    "    column_name = ['filename', 'width', 'height', 'class', 'xmin', 'ymin', 'xmax', 'ymax']\n",
    "    xml_df = pd.DataFrame(value, columns=column_name)\n",
    "    return xml_df\n",
    "\n",
    "\n",
    "def main():\n",
    "    for folder in ['train','test']:\n",
    "        image_path = os.path.join(os.getcwd(), ('images/' + folder))\n",
    "        xml_df = xml_to_csv(image_path)\n",
    "        xml_df.to_csv(('images/' + folder + '_labels.csv'), index=None)\n",
    "        print('Successfully converted xml to csv.')\n"
   ]
  },
  {
   "cell_type": "code",
   "execution_count": null,
   "metadata": {
    "collapsed": true
   },
   "outputs": [],
   "source": [
    "main()"
   ]
  },
  {
   "cell_type": "code",
   "execution_count": null,
   "metadata": {
    "collapsed": true
   },
   "outputs": [],
   "source": [
    "for member in root.findall('object'):\n",
    "    try:\n",
    "\n",
    "        value.append((root.find('filename').text,\n",
    "                 int(root.find('size')[0].text),\n",
    "                 int(root.find('size')[1].text),\n",
    "                 member[0].text,\n",
    "                 int(member[1][0].text),\n",
    "                 int(member[1][1].text),\n",
    "                 int(member[1][2].text),\n",
    "                 int(member[1][3].text)\n",
    "                 ))\n",
    "        #xml_list.append(value)\n",
    "    except IndexError:\n",
    "        print(\"Differently annotated file : {}\".format(xml_file))\n",
    "\n",
    "column_name = ['filename', 'width', 'height', 'class', 'xmin', 'ymin', 'xmax', 'ymax']\n",
    "xml_df = pd.DataFrame(value, columns=column_name)"
   ]
  },
  {
   "cell_type": "code",
   "execution_count": null,
   "metadata": {
    "collapsed": true
   },
   "outputs": [],
   "source": [
    "print(root.find('folder').text)\n",
    "print(root.find('filename').text)\n",
    "print(root.find('path').text)\n",
    "print(root.find('source')[0].text)\n",
    "\n",
    "print(int(root.find('size')[0].text))\n",
    "print(int(root.find('size')[1].text))\n",
    "print(int(root.find('size')[2].text))\n",
    "\n",
    "print(root.find('segmented').text)\n",
    "\n",
    "print(member[0].text)\n",
    "print(member[1].text)\n",
    "print(member[2].text)\n",
    "print(member[3].text)\n",
    "print(member[4][0].text)\n",
    "print(member[4][1].text)\n",
    "print(member[4][2].text)\n",
    "print(member[4][3].text)"
   ]
  }
 ],
 "metadata": {
  "kernelspec": {
   "display_name": "Python 3",
   "language": "python",
   "name": "python3"
  },
  "language_info": {
   "codemirror_mode": {
    "name": "ipython",
    "version": 3
   },
   "file_extension": ".py",
   "mimetype": "text/x-python",
   "name": "python",
   "nbconvert_exporter": "python",
   "pygments_lexer": "ipython3",
   "version": "3.6.3"
  }
 },
 "nbformat": 4,
 "nbformat_minor": 2
}
