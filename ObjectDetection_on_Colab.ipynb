{
  "nbformat": 4,
  "nbformat_minor": 0,
  "metadata": {
    "colab": {
      "name": "ObjectDetection_on_Colab.ipynb",
      "version": "0.3.2",
      "views": {},
      "default_view": {},
      "provenance": [],
      "collapsed_sections": []
    },
    "kernelspec": {
      "name": "python3",
      "display_name": "Python 3"
    },
    "accelerator": "GPU"
  },
  "cells": [
    {
      "metadata": {
        "id": "VFkiTFLkhURn",
        "colab_type": "text"
      },
      "cell_type": "markdown",
      "source": [
        "## ----------------------------------------------------------------------------------------------------------------------------"
      ]
    },
    {
      "metadata": {
        "id": "84eBPTDdUgIK",
        "colab_type": "text"
      },
      "cell_type": "markdown",
      "source": [
        "## Allow to Upload Drive into Colab"
      ]
    },
    {
      "metadata": {
        "id": "7M3i8JQDBJ7f",
        "colab_type": "code",
        "colab": {
          "autoexec": {
            "startup": false,
            "wait_interval": 0
          }
        }
      },
      "cell_type": "code",
      "source": [
        "# Install a Drive FUSE wrapper.\n",
        "# https://github.com/astrada/google-drive-ocamlfuse\n",
        "!apt-get install -y -qq software-properties-common python-software-properties module-init-tools\n",
        "!add-apt-repository -y ppa:alessandro-strada/ppa 2>&1 > /dev/null\n",
        "!apt-get update -qq 2>&1 > /dev/null\n",
        "!apt-get -y install -qq google-drive-ocamlfuse fuse"
      ],
      "execution_count": 0,
      "outputs": []
    },
    {
      "metadata": {
        "id": "51bXEdZi5GqI",
        "colab_type": "code",
        "colab": {
          "autoexec": {
            "startup": false,
            "wait_interval": 0
          }
        }
      },
      "cell_type": "code",
      "source": [
        "# Generate auth tokens for Colab\n",
        "from google.colab import auth\n",
        "auth.authenticate_user()"
      ],
      "execution_count": 0,
      "outputs": []
    },
    {
      "metadata": {
        "id": "KtNied2u5Gtk",
        "colab_type": "code",
        "colab": {
          "autoexec": {
            "startup": false,
            "wait_interval": 0
          }
        }
      },
      "cell_type": "code",
      "source": [
        "# Generate creds for the Drive FUSE library.\n",
        "from oauth2client.client import GoogleCredentials\n",
        "creds = GoogleCredentials.get_application_default()\n",
        "import getpass\n",
        "!google-drive-ocamlfuse -headless -id={creds.client_id} -secret={creds.client_secret} < /dev/null 2>&1 | grep URL\n",
        "vcode = getpass.getpass()\n",
        "!echo {vcode} | google-drive-ocamlfuse -headless -id={creds.client_id} -secret={creds.client_secret}\n"
      ],
      "execution_count": 0,
      "outputs": []
    },
    {
      "metadata": {
        "id": "QFW3_iuNWN1d",
        "colab_type": "code",
        "colab": {
          "autoexec": {
            "startup": false,
            "wait_interval": 0
          }
        }
      },
      "cell_type": "code",
      "source": [
        ""
      ],
      "execution_count": 0,
      "outputs": []
    },
    {
      "metadata": {
        "id": "pjS8qDhdWOVs",
        "colab_type": "text"
      },
      "cell_type": "markdown",
      "source": [
        "## ----------------------------------------------------------------------------------------------------------------------------"
      ]
    },
    {
      "metadata": {
        "id": "qg1J_lZhUzLG",
        "colab_type": "text"
      },
      "cell_type": "markdown",
      "source": [
        "## Upload Google Drive Files \n",
        "#### make a folder  'drive'"
      ]
    },
    {
      "metadata": {
        "id": "JcskA2FU5Gyt",
        "colab_type": "code",
        "colab": {
          "autoexec": {
            "startup": false,
            "wait_interval": 0
          }
        }
      },
      "cell_type": "code",
      "source": [
        "# Create a directory and mount Google Drive using that directory.\n",
        "!mkdir -p drive\n",
        "!google-drive-ocamlfuse drive\n",
        "\n",
        "# Create a file in Drive.\n",
        "!echo \"This newly created file will appear in your Drive file list.\" > drive/created.txt"
      ],
      "execution_count": 0,
      "outputs": []
    },
    {
      "metadata": {
        "id": "2e--25mW81Es",
        "colab_type": "code",
        "colab": {
          "autoexec": {
            "startup": false,
            "wait_interval": 0
          },
          "base_uri": "https://localhost:8080/",
          "height": 35
        },
        "outputId": "6816d3e2-3c1a-4031-a7b0-a41ae6275e34",
        "executionInfo": {
          "status": "ok",
          "timestamp": 1533042177081,
          "user_tz": -540,
          "elapsed": 654,
          "user": {
            "displayName": "ヤームルムスタファ",
            "photoUrl": "https://lh3.googleusercontent.com/a/default-user=s128",
            "userId": "110591330226454182210"
          }
        }
      },
      "cell_type": "code",
      "source": [
        "%cd drive"
      ],
      "execution_count": 5,
      "outputs": [
        {
          "output_type": "stream",
          "text": [
            "/content/drive\n"
          ],
          "name": "stdout"
        }
      ]
    },
    {
      "metadata": {
        "id": "qPl_JiVaWQ8h",
        "colab_type": "code",
        "colab": {
          "autoexec": {
            "startup": false,
            "wait_interval": 0
          }
        }
      },
      "cell_type": "code",
      "source": [
        ""
      ],
      "execution_count": 0,
      "outputs": []
    },
    {
      "metadata": {
        "id": "1LGep40iWRpF",
        "colab_type": "text"
      },
      "cell_type": "markdown",
      "source": [
        "## ----------------------------------------------------------------------------------------------------------------------------"
      ]
    },
    {
      "metadata": {
        "id": "ymt_H2_7UHrc",
        "colab_type": "text"
      },
      "cell_type": "markdown",
      "source": [
        "## Download Tensorflow API"
      ]
    },
    {
      "metadata": {
        "id": "2ePgMPlG8QZJ",
        "colab_type": "code",
        "colab": {
          "autoexec": {
            "startup": false,
            "wait_interval": 0
          }
        }
      },
      "cell_type": "code",
      "source": [
        "#!git clone https://github.com/tensorflow/models.git\n"
      ],
      "execution_count": 0,
      "outputs": []
    },
    {
      "metadata": {
        "id": "Q4ul78-aVzqz",
        "colab_type": "code",
        "colab": {
          "autoexec": {
            "startup": false,
            "wait_interval": 0
          },
          "base_uri": "https://localhost:8080/",
          "height": 34
        },
        "outputId": "26b76eaa-cfa8-4fe0-db56-44721c33d839",
        "executionInfo": {
          "status": "ok",
          "timestamp": 1533018093244,
          "user_tz": -540,
          "elapsed": 1235,
          "user": {
            "displayName": "ヤームルムスタファ",
            "photoUrl": "https://lh3.googleusercontent.com/a/default-user=s128",
            "userId": "110591330226454182210"
          }
        }
      },
      "cell_type": "code",
      "source": [
        "%cd Tensorflow_API/models/research/"
      ],
      "execution_count": 24,
      "outputs": [
        {
          "output_type": "stream",
          "text": [
            "/content/drive/Tensorflow_API/models/research\n"
          ],
          "name": "stdout"
        }
      ]
    },
    {
      "metadata": {
        "id": "tlJNR4RFVzov",
        "colab_type": "code",
        "colab": {
          "autoexec": {
            "startup": false,
            "wait_interval": 0
          },
          "base_uri": "https://localhost:8080/",
          "height": 52
        },
        "outputId": "58a72e06-803c-4260-e0df-29a8edc68684",
        "executionInfo": {
          "status": "ok",
          "timestamp": 1531112243566,
          "user_tz": -540,
          "elapsed": 2147,
          "user": {
            "displayName": "Mustafa YAGMUR",
            "photoUrl": "//lh5.googleusercontent.com/-5RkTvRVR2Yo/AAAAAAAAAAI/AAAAAAAAACQ/7rD0hx2Skbw/s50-c-k-no/photo.jpg",
            "userId": "113881673002943142388"
          }
        }
      },
      "cell_type": "code",
      "source": [
        "!ls"
      ],
      "execution_count": 0,
      "outputs": [
        {
          "output_type": "stream",
          "text": [
            "build\t gan\t    maskgan\t      object_detection.egg-info  slim\r\n",
            "cocoapi  inception  object_detection  resnet\r\n"
          ],
          "name": "stdout"
        }
      ]
    },
    {
      "metadata": {
        "id": "FeHqzhAyTzH-",
        "colab_type": "code",
        "colab": {
          "autoexec": {
            "startup": false,
            "wait_interval": 0
          }
        }
      },
      "cell_type": "code",
      "source": [
        ""
      ],
      "execution_count": 0,
      "outputs": []
    },
    {
      "metadata": {
        "id": "fH0t16sNWYem",
        "colab_type": "text"
      },
      "cell_type": "markdown",
      "source": [
        "## ----------------------------------------------------------------------------------------------------------------------------"
      ]
    },
    {
      "metadata": {
        "id": "jQ55eaAbT0iU",
        "colab_type": "text"
      },
      "cell_type": "markdown",
      "source": [
        "## Install Requirements"
      ]
    },
    {
      "metadata": {
        "id": "iqsSYIpUiYXY",
        "colab_type": "code",
        "colab": {
          "autoexec": {
            "startup": false,
            "wait_interval": 0
          }
        }
      },
      "cell_type": "code",
      "source": [
        "!apt-get install protobuf-compiler python-pil python-lxml python-tk\n",
        "!pip install Cython\n",
        "!pip install jupyter\n",
        "!pip install matplotlib"
      ],
      "execution_count": 0,
      "outputs": []
    },
    {
      "metadata": {
        "id": "NVhyXPUrT5w2",
        "colab_type": "code",
        "colab": {
          "autoexec": {
            "startup": false,
            "wait_interval": 0
          }
        }
      },
      "cell_type": "code",
      "source": [
        ""
      ],
      "execution_count": 0,
      "outputs": []
    },
    {
      "metadata": {
        "id": "b2OwuoTdWaTL",
        "colab_type": "text"
      },
      "cell_type": "markdown",
      "source": [
        "## ----------------------------------------------------------------------------------------------------------------------------"
      ]
    },
    {
      "metadata": {
        "id": "hU44fNR-T7zC",
        "colab_type": "text"
      },
      "cell_type": "markdown",
      "source": [
        "## Download cocotools (if needed)"
      ]
    },
    {
      "metadata": {
        "id": "b90Uop_h8VjQ",
        "colab_type": "code",
        "colab": {
          "autoexec": {
            "startup": false,
            "wait_interval": 0
          }
        }
      },
      "cell_type": "code",
      "source": [
        "# !git clone https://github.com/cocodataset/cocoapi.git\n",
        "# !cd cocoapi/PythonAPI; make; cp -r pycocotools /content/models/research/"
      ],
      "execution_count": 0,
      "outputs": []
    },
    {
      "metadata": {
        "id": "nlnM_2VrWizx",
        "colab_type": "text"
      },
      "cell_type": "markdown",
      "source": [
        "## ----------------------------------------------------------------------------------------------------------------------------"
      ]
    },
    {
      "metadata": {
        "id": "xFa9bDc9ToyH",
        "colab_type": "text"
      },
      "cell_type": "markdown",
      "source": [
        "## Add Paths into PTYHONPATH"
      ]
    },
    {
      "metadata": {
        "id": "If6yMD_T8Xl-",
        "colab_type": "code",
        "colab": {
          "autoexec": {
            "startup": false,
            "wait_interval": 0
          }
        }
      },
      "cell_type": "code",
      "source": [
        "#%cd /content/models/research\n",
        "#%mkdir train eval\n",
        "%set_env PYTHONPATH=/content/drive/Tensorflow_API/models:/content/drive/Tensorflow_API/models/research:/content/drive/Tensorflow_API/models/research/slim\n",
        "# export PYTHONPATH=/content/drive/Tensorflow_API/models:/content/drive/Tensorflow_API/models/research:/content/drive/Tensorflow_API/models/research/slim"
      ],
      "execution_count": 0,
      "outputs": []
    },
    {
      "metadata": {
        "id": "QkIbF7ypWlG9",
        "colab_type": "text"
      },
      "cell_type": "markdown",
      "source": [
        "## ----------------------------------------------------------------------------------------------------------------------------"
      ]
    },
    {
      "metadata": {
        "id": "Ur083XKMTa97",
        "colab_type": "text"
      },
      "cell_type": "markdown",
      "source": [
        "## Compile proto files"
      ]
    },
    {
      "metadata": {
        "id": "XtMexf9E8zds",
        "colab_type": "code",
        "colab": {
          "autoexec": {
            "startup": false,
            "wait_interval": 0
          }
        }
      },
      "cell_type": "code",
      "source": [
        "!protoc ./object_detection/protos/*.proto --python_out=."
      ],
      "execution_count": 0,
      "outputs": []
    },
    {
      "metadata": {
        "id": "kRgPJWaAWmqC",
        "colab_type": "text"
      },
      "cell_type": "markdown",
      "source": [
        "## ----------------------------------------------------------------------------------------------------------------------------"
      ]
    },
    {
      "metadata": {
        "id": "htn_vqGAThWm",
        "colab_type": "text"
      },
      "cell_type": "markdown",
      "source": [
        "## Check Settings so far"
      ]
    },
    {
      "metadata": {
        "id": "VCb9NInB82Pv",
        "colab_type": "code",
        "colab": {
          "autoexec": {
            "startup": false,
            "wait_interval": 0
          }
        }
      },
      "cell_type": "code",
      "source": [
        "!python /content/drive/Tensorflow_API/models/research/object_detection/builders/model_builder_test.py"
      ],
      "execution_count": 0,
      "outputs": []
    },
    {
      "metadata": {
        "id": "iiZ6qDE_89aQ",
        "colab_type": "code",
        "colab": {
          "autoexec": {
            "startup": false,
            "wait_interval": 0
          }
        }
      },
      "cell_type": "code",
      "source": [
        "%cd Tensorflow_API/models/research/\n",
        "!ls"
      ],
      "execution_count": 0,
      "outputs": []
    },
    {
      "metadata": {
        "id": "ACBhJyzHWo7C",
        "colab_type": "text"
      },
      "cell_type": "markdown",
      "source": [
        "## ----------------------------------------------------------------------------------------------------------------------------"
      ]
    },
    {
      "metadata": {
        "id": "D3YRgqR5by8R",
        "colab_type": "text"
      },
      "cell_type": "markdown",
      "source": [
        "## TF Record Maker\n",
        "### if use other datasets\n"
      ]
    },
    {
      "metadata": {
        "id": "pc_gAlUaZ7Rh",
        "colab_type": "code",
        "colab": {
          "autoexec": {
            "startup": false,
            "wait_interval": 0
          }
        }
      },
      "cell_type": "code",
      "source": [
        "!wget pets\n",
        "!tar images\n",
        "!tar annotations"
      ],
      "execution_count": 0,
      "outputs": []
    },
    {
      "metadata": {
        "id": "Es4ZEfWSAN1A",
        "colab_type": "code",
        "colab": {
          "autoexec": {
            "startup": false,
            "wait_interval": 0
          }
        }
      },
      "cell_type": "code",
      "source": [
        "!python object_detection/dataset_tools/create_pet_tf_record.py --label_map_path=object_detection/data/pet_label_map.pbtxt --data_dir=`pwd` --output_dir=`pwd`\n",
        "!ls *.record"
      ],
      "execution_count": 0,
      "outputs": []
    },
    {
      "metadata": {
        "id": "gS2rg3SA74da",
        "colab_type": "code",
        "colab": {
          "autoexec": {
            "startup": false,
            "wait_interval": 0
          }
        }
      },
      "cell_type": "code",
      "source": [
        "!ls"
      ],
      "execution_count": 0,
      "outputs": []
    },
    {
      "metadata": {
        "id": "vNM-mtPZWr_3",
        "colab_type": "text"
      },
      "cell_type": "markdown",
      "source": [
        "## ----------------------------------------------------------------------------------------------------------------------------"
      ]
    },
    {
      "metadata": {
        "id": "egYk0j9OMQqn",
        "colab_type": "text"
      },
      "cell_type": "markdown",
      "source": [
        "## Get Pre-trained model"
      ]
    },
    {
      "metadata": {
        "id": "xqI0JNjXMKAa",
        "colab_type": "code",
        "colab": {
          "autoexec": {
            "startup": false,
            "wait_interval": 0
          }
        }
      },
      "cell_type": "code",
      "source": [
        "!wget http://storage.googleapis.com/download.tensorflow.org/models/object_detection/faster_rcnn_resnet101_coco_11_06_2017.tar.gz\n",
        "!tar -xvf faster_rcnn_resnet101_coco_11_06_2017.tar.gz\n",
        "!cp faster_rcnn_resnet101_coco_11_06_2017/model.ckpt.* ."
      ],
      "execution_count": 0,
      "outputs": []
    },
    {
      "metadata": {
        "id": "E3uREfERMYDD",
        "colab_type": "code",
        "colab": {
          "autoexec": {
            "startup": false,
            "wait_interval": 0
          }
        }
      },
      "cell_type": "code",
      "source": [
        "%cd .."
      ],
      "execution_count": 0,
      "outputs": []
    },
    {
      "metadata": {
        "id": "evRBZ4jcWtcT",
        "colab_type": "text"
      },
      "cell_type": "markdown",
      "source": [
        "## ----------------------------------------------------------------------------------------------------------------------------"
      ]
    },
    {
      "metadata": {
        "id": "LzF7o7n_OEGX",
        "colab_type": "text"
      },
      "cell_type": "markdown",
      "source": [
        "## Set Configurations"
      ]
    },
    {
      "metadata": {
        "id": "8PG44wXnN_rm",
        "colab_type": "code",
        "colab": {
          "autoexec": {
            "startup": false,
            "wait_interval": 0
          }
        }
      },
      "cell_type": "code",
      "source": [
        "#!cp object_detection/samples/configs/faster_rcnn_resnet101_pets.config .\n",
        "!sed -i “s|PATH_TO_BE_CONFIGURED|/content/models/research|g” faster_rcnn_resnet101_pets.config\n",
        "!sed -i “s|/content/models/research/pet_label_map.pbtxt|/content/models/research/object_detection/data/pet_label_map.pbtxt|g” faster_rcnn_resnet101_pets.config\n",
        "!sed -i “s|/content/models/research/pet_train.record|/content/models/research/pet_train_with_masks.record|g” faster_rcnn_resnet101_pets.config\n",
        "!sed -i “s|/content/models/research/pet_val.record|/content/models/research/pet_val_with_masks.record|g” faster_rcnn_resnet101_pets.config"
      ],
      "execution_count": 0,
      "outputs": []
    },
    {
      "metadata": {
        "id": "9krIhzOfWuGG",
        "colab_type": "text"
      },
      "cell_type": "markdown",
      "source": [
        "## ----------------------------------------------------------------------------------------------------------------------------"
      ]
    },
    {
      "metadata": {
        "id": "Q3FPfOXbcxtv",
        "colab_type": "text"
      },
      "cell_type": "markdown",
      "source": [
        "## Training"
      ]
    },
    {
      "metadata": {
        "id": "-NWo4Yzgbt8I",
        "colab_type": "code",
        "colab": {
          "autoexec": {
            "startup": false,
            "wait_interval": 0
          }
        }
      },
      "cell_type": "code",
      "source": [
        "!python object_detection/train.py --logtostderr --train_dir=object_detection/training --pipeline_config_path=object_detection/training/faster_rcnn_inception_v2_pets.config"
      ],
      "execution_count": 0,
      "outputs": []
    },
    {
      "metadata": {
        "id": "2rtMU0Nx782M",
        "colab_type": "code",
        "colab": {
          "autoexec": {
            "startup": false,
            "wait_interval": 0
          }
        }
      },
      "cell_type": "code",
      "source": [
        "%cd drive\n"
      ],
      "execution_count": 0,
      "outputs": []
    },
    {
      "metadata": {
        "id": "IBGHx2w5eZCj",
        "colab_type": "text"
      },
      "cell_type": "markdown",
      "source": [
        "## ----------------------------------------------------------------------------------------------------------------------------"
      ]
    },
    {
      "metadata": {
        "id": "PtqaJa5Ce2Y-",
        "colab_type": "code",
        "colab": {
          "autoexec": {
            "startup": false,
            "wait_interval": 0
          }
        }
      },
      "cell_type": "code",
      "source": [
        ""
      ],
      "execution_count": 0,
      "outputs": []
    },
    {
      "metadata": {
        "id": "q9GzGLWce3Xd",
        "colab_type": "text"
      },
      "cell_type": "markdown",
      "source": [
        "## Download trained model into Drive"
      ]
    },
    {
      "metadata": {
        "id": "99mCnvxFeXZ_",
        "colab_type": "code",
        "colab": {
          "autoexec": {
            "startup": false,
            "wait_interval": 0
          }
        }
      },
      "cell_type": "code",
      "source": [
        "!rm -r exported_graphs; mkdir exported_graphs\n",
        "!export CHECKPOINT_NUMBER=NNNNN; python object_detection/export_inference_graph.py \\\n",
        "--input_type image_tensor \\\n",
        "--pipeline_config_path faster_rcnn_resnet101_pets.config \\\n",
        "--trained_checkpoint_prefix train/model.ckpt-${CHECKPOINT_NUMBER} \\\n",
        "--output_directory exported_graphs"
      ],
      "execution_count": 0,
      "outputs": []
    },
    {
      "metadata": {
        "id": "UqZqGvFmektt",
        "colab_type": "code",
        "colab": {
          "autoexec": {
            "startup": false,
            "wait_interval": 0
          }
        }
      },
      "cell_type": "code",
      "source": [
        "!zip -r exp_g.zip exported_graphs\n"
      ],
      "execution_count": 0,
      "outputs": []
    },
    {
      "metadata": {
        "id": "FzCWS-yaekyj",
        "colab_type": "code",
        "colab": {
          "autoexec": {
            "startup": false,
            "wait_interval": 0
          }
        }
      },
      "cell_type": "code",
      "source": [
        "# Install the PyDrive wrapper & import libraries.\n",
        "# This only needs to be done once in a notebook.\n",
        "!pip install -U -q PyDrive\n",
        "from pydrive.auth import GoogleAuth\n",
        "from pydrive.drive import GoogleDrive\n",
        "from google.colab import auth\n",
        "from oauth2client.client import GoogleCredentials\n",
        "# Authenticate and create the PyDrive client.\n",
        "# This only needs to be done once in a notebook.\n",
        "auth.authenticate_user()\n",
        "gauth = GoogleAuth()\n",
        "gauth.credentials = GoogleCredentials.get_application_default()\n",
        "drive = GoogleDrive(gauth)"
      ],
      "execution_count": 0,
      "outputs": []
    },
    {
      "metadata": {
        "id": "96tQ5c85erYp",
        "colab_type": "code",
        "colab": {
          "autoexec": {
            "startup": false,
            "wait_interval": 0
          }
        }
      },
      "cell_type": "code",
      "source": [
        "# Create & upload a file.\n",
        "uploaded = drive.CreateFile({‘title’: ‘exp_g.zip’})\n",
        "uploaded.SetContentFile(‘exp_g.zip’)\n",
        "uploaded.Upload()\n",
        "print(‘Uploaded file with ID {}’.format(uploaded.get(‘id’)))"
      ],
      "execution_count": 0,
      "outputs": []
    },
    {
      "metadata": {
        "id": "oEs4xmqaWvaZ",
        "colab_type": "text"
      },
      "cell_type": "markdown",
      "source": [
        "## ----------------------------------------------------------------------------------------------------------------------------"
      ]
    },
    {
      "metadata": {
        "id": "hQO8Rs4lUUaq",
        "colab_type": "text"
      },
      "cell_type": "markdown",
      "source": [
        "## Download Trained Model into Local Computer"
      ]
    },
    {
      "metadata": {
        "id": "nlbxvxWNSz4-",
        "colab_type": "code",
        "colab": {
          "autoexec": {
            "startup": false,
            "wait_interval": 0
          }
        }
      },
      "cell_type": "code",
      "source": [
        "gen_path = '/content/.pb'\n",
        "generator.save(gen_path)\n",
        "from google.colab import files\n",
        "files.download(gen_path)"
      ],
      "execution_count": 0,
      "outputs": []
    },
    {
      "metadata": {
        "id": "FtPahkyGW3mL",
        "colab_type": "text"
      },
      "cell_type": "markdown",
      "source": [
        "## ----------------------------------------------------------------------------------------------------------------------------"
      ]
    },
    {
      "metadata": {
        "id": "oHsu-kQWUQBY",
        "colab_type": "text"
      },
      "cell_type": "markdown",
      "source": [
        "## Visualize"
      ]
    },
    {
      "metadata": {
        "id": "CgcWl3U1Sv1j",
        "colab_type": "code",
        "colab": {
          "autoexec": {
            "startup": false,
            "wait_interval": 0
          }
        }
      },
      "cell_type": "code",
      "source": [
        "import numpy as np\n",
        "import matplotlib.pyplot as plt\n",
        "import matplotlib.gridspec as gridspec\n",
        "from IPython.display import Image\n",
        "\n",
        "%%capture\n",
        "!pip install import_ipynb\n",
        "%cd /content\n",
        "%rm -r /content/0a16ae419d9eba160ddb4f48862fb9e2\n",
        "!git clone https://gist.github.com/dkatsios/0a16ae419d9eba160ddb4f48862fb9e2.git\n",
        "%cd /content/0a16ae419d9eba160ddb4f48862fb9e2\n",
        "import import_ipynb\n",
        "from IPython.display import HTML\n",
        "from AnimationDisplay import plot_results\n",
        "%cd /content"
      ],
      "execution_count": 0,
      "outputs": []
    },
    {
      "metadata": {
        "id": "LShYzyP0hUPD",
        "colab_type": "code",
        "colab": {
          "autoexec": {
            "startup": false,
            "wait_interval": 0
          }
        }
      },
      "cell_type": "code",
      "source": [
        "\n",
        "path = '/content/images/{}.ckpt'\n",
        "iterator = range(200, steps+1, 200)\n",
        "HTML(plot_results(path, iterator).to_jshtml())"
      ],
      "execution_count": 0,
      "outputs": []
    },
    {
      "metadata": {
        "id": "a1xrGcxtW1vf",
        "colab_type": "text"
      },
      "cell_type": "markdown",
      "source": [
        "## ----------------------------------------------------------------------------------------------------------------------------"
      ]
    }
  ]
}